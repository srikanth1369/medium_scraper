{
 "cells": [
  {
   "cell_type": "code",
   "execution_count": 6,
   "id": "95a07ee2",
   "metadata": {},
   "outputs": [],
   "source": [
    "import pandas as pd"
   ]
  },
  {
   "cell_type": "code",
   "execution_count": 38,
   "id": "739316aa",
   "metadata": {},
   "outputs": [
    {
     "data": {
      "text/html": [
       "<div>\n",
       "<style scoped>\n",
       "    .dataframe tbody tr th:only-of-type {\n",
       "        vertical-align: middle;\n",
       "    }\n",
       "\n",
       "    .dataframe tbody tr th {\n",
       "        vertical-align: top;\n",
       "    }\n",
       "\n",
       "    .dataframe thead th {\n",
       "        text-align: right;\n",
       "    }\n",
       "</style>\n",
       "<table border=\"1\" class=\"dataframe\">\n",
       "  <thead>\n",
       "    <tr style=\"text-align: right;\">\n",
       "      <th></th>\n",
       "      <th>author</th>\n",
       "      <th>title</th>\n",
       "      <th>summary</th>\n",
       "      <th>published_date</th>\n",
       "      <th>article_link</th>\n",
       "    </tr>\n",
       "  </thead>\n",
       "  <tbody>\n",
       "    <tr>\n",
       "      <th>0</th>\n",
       "      <td>Logistics Collapse,My 2022 Summer Lists,Google...</td>\n",
       "      <td>Logistics Collapse,My 2022 Summer Lists,Google...</td>\n",
       "      <td>I used artificial intelligence to determine wh...</td>\n",
       "      <td>Jul 20,Jul 20,Jul 25,Jul 26,Jul 26,Jul 26,Jul ...</td>\n",
       "      <td>/,https://medium.com/about?autoplay=1,https://...</td>\n",
       "    </tr>\n",
       "  </tbody>\n",
       "</table>\n",
       "</div>"
      ],
      "text/plain": [
       "                                              author  \\\n",
       "0  Logistics Collapse,My 2022 Summer Lists,Google...   \n",
       "\n",
       "                                               title  \\\n",
       "0  Logistics Collapse,My 2022 Summer Lists,Google...   \n",
       "\n",
       "                                             summary  \\\n",
       "0  I used artificial intelligence to determine wh...   \n",
       "\n",
       "                                      published_date  \\\n",
       "0  Jul 20,Jul 20,Jul 25,Jul 26,Jul 26,Jul 26,Jul ...   \n",
       "\n",
       "                                        article_link  \n",
       "0  /,https://medium.com/about?autoplay=1,https://...  "
      ]
     },
     "execution_count": 38,
     "metadata": {},
     "output_type": "execute_result"
    }
   ],
   "source": [
    "pd.read_csv('items.csv')"
   ]
  },
  {
   "cell_type": "code",
   "execution_count": 28,
   "id": "8735004a",
   "metadata": {},
   "outputs": [],
   "source": [
    "pub = ['Nadin Brzezinski', 'Barack Obama', 'Aniket', 'in', 'Tom Cooper', 'umair haque', 'in', 'Jude Ellison S. Doyle', 'Joel Stein', 'Brandy L Schillace', 'Amelia Winger-Bearskin', 'Markham Heid', 'Jude Ellison S. Doyle', 'Will Leitch', 'Elise Hein', 'in', 'Sarah Miller', 'Will Lockett', 'in', 'Nandini Balial', 'in']"
   ]
  },
  {
   "cell_type": "code",
   "execution_count": 43,
   "id": "ac7e9ce7",
   "metadata": {},
   "outputs": [
    {
     "data": {
      "text/html": [
       "<div>\n",
       "<style scoped>\n",
       "    .dataframe tbody tr th:only-of-type {\n",
       "        vertical-align: middle;\n",
       "    }\n",
       "\n",
       "    .dataframe tbody tr th {\n",
       "        vertical-align: top;\n",
       "    }\n",
       "\n",
       "    .dataframe thead th {\n",
       "        text-align: right;\n",
       "    }\n",
       "</style>\n",
       "<table border=\"1\" class=\"dataframe\">\n",
       "  <thead>\n",
       "    <tr style=\"text-align: right;\">\n",
       "      <th></th>\n",
       "      <th>title</th>\n",
       "      <th>summary</th>\n",
       "    </tr>\n",
       "  </thead>\n",
       "  <tbody>\n",
       "    <tr>\n",
       "      <th>0</th>\n",
       "      <td>Recommended from Medium,Get the Medium app,Bev...</td>\n",
       "      <td>ExCommunications,Is being born worth an eterni...</td>\n",
       "    </tr>\n",
       "    <tr>\n",
       "      <th>1</th>\n",
       "      <td>A poem about abortion.,Get the Medium app,Clau...</td>\n",
       "      <td>Are You Out There,An aborted fetus looks at he...</td>\n",
       "    </tr>\n",
       "    <tr>\n",
       "      <th>2</th>\n",
       "      <td>The Abortion Pastels, Paula Rego,Paula Rego’s ...</td>\n",
       "      <td>July 2022,The Feminist Palette is a digital zi...</td>\n",
       "    </tr>\n",
       "    <tr>\n",
       "      <th>3</th>\n",
       "      <td>Creativity,And it’s something we all possess…,...</td>\n",
       "      <td>Pollinate Magazine,ike many others, I’ve been ...</td>\n",
       "    </tr>\n",
       "    <tr>\n",
       "      <th>4</th>\n",
       "      <td>The guy who pays underage hookers for sex says...</td>\n",
       "      <td>The Haven,The Huffington Post reports Matt Gae...</td>\n",
       "    </tr>\n",
       "    <tr>\n",
       "      <th>5</th>\n",
       "      <td>Haven’t you heard? You’re only allowed to figh...</td>\n",
       "      <td>to U.S. Congressman Matt Gaetz, unattractive ...</td>\n",
       "    </tr>\n",
       "    <tr>\n",
       "      <th>6</th>\n",
       "      <td>A new study by a pro-choice author answers thi...</td>\n",
       "      <td>Although few Americans support legalized abort...</td>\n",
       "    </tr>\n",
       "    <tr>\n",
       "      <th>7</th>\n",
       "      <td>Get the Medium app,Barry Gander,More from ,Medium</td>\n",
       "      <td>One hundred years ago the mightiest pressure g...</td>\n",
       "    </tr>\n",
       "    <tr>\n",
       "      <th>8</th>\n",
       "      <td>Get the Medium app,Dennis Crawford,More from ,...</td>\n",
       "      <td>The six radical Republicans on the Supreme Cou...</td>\n",
       "    </tr>\n",
       "    <tr>\n",
       "      <th>9</th>\n",
       "      <td>Recommended from Medium,Get the Medium app,cra...</td>\n",
       "      <td>I laud the recent efforts of a newly formed wo...</td>\n",
       "    </tr>\n",
       "  </tbody>\n",
       "</table>\n",
       "</div>"
      ],
      "text/plain": [
       "                                               title  \\\n",
       "0  Recommended from Medium,Get the Medium app,Bev...   \n",
       "1  A poem about abortion.,Get the Medium app,Clau...   \n",
       "2  The Abortion Pastels, Paula Rego,Paula Rego’s ...   \n",
       "3  Creativity,And it’s something we all possess…,...   \n",
       "4  The guy who pays underage hookers for sex says...   \n",
       "5  Haven’t you heard? You’re only allowed to figh...   \n",
       "6  A new study by a pro-choice author answers thi...   \n",
       "7  Get the Medium app,Barry Gander,More from ,Medium   \n",
       "8  Get the Medium app,Dennis Crawford,More from ,...   \n",
       "9  Recommended from Medium,Get the Medium app,cra...   \n",
       "\n",
       "                                             summary  \n",
       "0  ExCommunications,Is being born worth an eterni...  \n",
       "1  Are You Out There,An aborted fetus looks at he...  \n",
       "2  July 2022,The Feminist Palette is a digital zi...  \n",
       "3  Pollinate Magazine,ike many others, I’ve been ...  \n",
       "4  The Haven,The Huffington Post reports Matt Gae...  \n",
       "5   to U.S. Congressman Matt Gaetz, unattractive ...  \n",
       "6  Although few Americans support legalized abort...  \n",
       "7  One hundred years ago the mightiest pressure g...  \n",
       "8  The six radical Republicans on the Supreme Cou...  \n",
       "9  I laud the recent efforts of a newly formed wo...  "
      ]
     },
     "execution_count": 43,
     "metadata": {},
     "output_type": "execute_result"
    }
   ],
   "source": [
    "pd.read_csv('abortion.csv')"
   ]
  },
  {
   "cell_type": "code",
   "execution_count": null,
   "id": "40e852a8",
   "metadata": {},
   "outputs": [],
   "source": []
  }
 ],
 "metadata": {
  "kernelspec": {
   "display_name": "Python 3 (ipykernel)",
   "language": "python",
   "name": "python3"
  },
  "language_info": {
   "codemirror_mode": {
    "name": "ipython",
    "version": 3
   },
   "file_extension": ".py",
   "mimetype": "text/x-python",
   "name": "python",
   "nbconvert_exporter": "python",
   "pygments_lexer": "ipython3",
   "version": "3.9.12"
  }
 },
 "nbformat": 4,
 "nbformat_minor": 5
}
